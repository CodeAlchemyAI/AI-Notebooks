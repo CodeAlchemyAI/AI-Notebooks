{
  "cells": [
    {
      "cell_type": "markdown",
      "metadata": {
        "id": "view-in-github",
        "colab_type": "text"
      },
      "source": [
        "<a href=\"https://colab.research.google.com/github/CodeAlchemyAI/AI-Notebooks/blob/main/huggingface/Hugging_Face_Transformer.ipynb\" target=\"_parent\"><img src=\"https://colab.research.google.com/assets/colab-badge.svg\" alt=\"Open In Colab\"/></a>"
      ]
    },
    {
      "cell_type": "code",
      "source": [
        "!pip install transformers"
      ],
      "metadata": {
        "id": "oaEqoDdDACOV"
      },
      "execution_count": null,
      "outputs": []
    },
    {
      "cell_type": "markdown",
      "source": [
        "**Sentiment analysis **"
      ],
      "metadata": {
        "id": "wPoVbQXREOR2"
      }
    },
    {
      "cell_type": "code",
      "source": [
        "\n",
        "from transformers import pipeline\n",
        "\n",
        "classifier = pipeline(\"sentiment-analysis\", model=\"SamLowe/roberta-base-go_emotions\")\n",
        "classifier(\"The concert last night was an unforgettable experience.\")"
      ],
      "metadata": {
        "id": "gB1OygPHAQ9z",
        "colab": {
          "base_uri": "https://localhost:8080/"
        },
        "outputId": "507cbed4-fe17-4692-9cc3-2250208dd7a1"
      },
      "execution_count": 8,
      "outputs": [
        {
          "output_type": "execute_result",
          "data": {
            "text/plain": [
              "[{'label': 'admiration', 'score': 0.6151543259620667}]"
            ]
          },
          "metadata": {},
          "execution_count": 8
        }
      ]
    },
    {
      "cell_type": "markdown",
      "source": [
        "**Sentiment analysis **"
      ],
      "metadata": {
        "id": "yOnCPumqIsPF"
      }
    },
    {
      "cell_type": "code",
      "source": [
        "from transformers import pipeline\n",
        "\n",
        "summarizer = pipeline(\"summarization\", model=\"facebook/bart-large-cnn\")\n",
        "text_to_summarize = \"\"\"The Emergence of AI: A Technological Milestone\n",
        "Artificial Intelligence has its roots in the early 20th century, but it was only in recent decades that its true potential began to materialize.\n",
        "As AI technologies advanced, so did the complexity of tasks they could accomplish. From natural language processing and image recognition to autonomous vehicles and smart assistants, AI has become an indispensable part of our daily lives,\n",
        "amplifying our abilities and transforming industries.\"\"\"\n",
        "print(summarizer(text_to_summarize, max_length=30, min_length=10, do_sample=False))\n",
        "\n"
      ],
      "metadata": {
        "id": "-t9cX-ZvI2i0",
        "colab": {
          "base_uri": "https://localhost:8080/"
        },
        "outputId": "4d9aa04a-9b1e-432d-df47-0409ba19f352"
      },
      "execution_count": 7,
      "outputs": [
        {
          "output_type": "stream",
          "name": "stdout",
          "text": [
            "[{'summary_text': 'Artificial Intelligence has its roots in the early 20th century. It was only in recent decades that its true potential began to materialize'}]\n"
          ]
        }
      ]
    },
    {
      "cell_type": "markdown",
      "source": [
        "**Fix grammatical errors  with grammarly **"
      ],
      "metadata": {
        "id": "wT8Oymw1Rrvh"
      }
    },
    {
      "cell_type": "code",
      "source": [
        "from transformers import pipeline\n",
        "\n",
        "pipe = pipeline(\"text2text-generation\", model=\"grammarly/coedit-large\")\n",
        "\n",
        "result = pipe(\"Fix grammatical errors in this sentence: This sentences has bads gramar.\")\n",
        "\n",
        "print(result)"
      ],
      "metadata": {
        "colab": {
          "base_uri": "https://localhost:8080/"
        },
        "id": "xb2Hmm1zMx77",
        "outputId": "68cbdeb2-406d-4e28-f177-1c989c0f061d"
      },
      "execution_count": 28,
      "outputs": [
        {
          "output_type": "stream",
          "name": "stdout",
          "text": [
            "[{'generated_text': 'This sentence has some bad grammar.'}]\n"
          ]
        }
      ]
    }
  ],
  "metadata": {
    "colab": {
      "provenance": [],
      "authorship_tag": "ABX9TyOq+wc8S7nrDCnC/j/dj+Vp",
      "include_colab_link": true
    },
    "kernelspec": {
      "display_name": "Python 3",
      "name": "python3"
    },
    "language_info": {
      "name": "python"
    }
  },
  "nbformat": 4,
  "nbformat_minor": 0
}