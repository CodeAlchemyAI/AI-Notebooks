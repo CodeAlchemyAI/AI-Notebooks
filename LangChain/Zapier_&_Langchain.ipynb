{
  "nbformat": 4,
  "nbformat_minor": 0,
  "metadata": {
    "colab": {
      "provenance": [],
      "authorship_tag": "ABX9TyM36jN98Eaf/3iFLfhH9Ku6",
      "include_colab_link": true
    },
    "kernelspec": {
      "name": "python3",
      "display_name": "Python 3"
    },
    "language_info": {
      "name": "python"
    }
  },
  "cells": [
    {
      "cell_type": "markdown",
      "metadata": {
        "id": "view-in-github",
        "colab_type": "text"
      },
      "source": [
        "<a href=\"https://colab.research.google.com/github/CodeAlchemyAI/AI-Notebooks/blob/main/LangChain/Zapier_%26_Langchain.ipynb\" target=\"_parent\"><img src=\"https://colab.research.google.com/assets/colab-badge.svg\" alt=\"Open In Colab\"/></a>"
      ]
    },
    {
      "cell_type": "code",
      "execution_count": null,
      "metadata": {
        "id": "KVN6R12dfnwk"
      },
      "outputs": [],
      "source": [
        "!pip install openai\n",
        "!pip install --upgrade langchain"
      ]
    },
    {
      "cell_type": "code",
      "source": [
        "import os\n",
        "os.environ[\"OPENAI_API_KEY\"] = \"sk-OPENAI-API-KEY\"\n",
        "os.environ[\"ZAPIER_NLA_API_KEY\"] = \"sk-ZAPIER-API-KEY\""
      ],
      "metadata": {
        "id": "K1rNlMrqf56q"
      },
      "execution_count": null,
      "outputs": []
    }
  ]
}