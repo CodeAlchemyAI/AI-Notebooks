{
  "nbformat": 4,
  "nbformat_minor": 0,
  "metadata": {
    "colab": {
      "provenance": [],
      "toc_visible": true,
      "authorship_tag": "ABX9TyMcjbBWs5izgpByOsqbsmH7",
      "include_colab_link": true
    },
    "kernelspec": {
      "name": "python3",
      "display_name": "Python 3"
    },
    "language_info": {
      "name": "python"
    }
  },
  "cells": [
    {
      "cell_type": "markdown",
      "metadata": {
        "id": "view-in-github",
        "colab_type": "text"
      },
      "source": [
        "<a href=\"https://colab.research.google.com/github/CodeAlchemyAI/AI-Notebooks/blob/main/LangChain/Zapier_%26_Langchain.ipynb\" target=\"_parent\"><img src=\"https://colab.research.google.com/assets/colab-badge.svg\" alt=\"Open In Colab\"/></a>"
      ]
    },
    {
      "cell_type": "markdown",
      "source": [
        "This example demonstrates how to utilize the Zapier integration to read emails from Gmail and draft a reply.\n",
        "To begin, you must possess a Zapier account and obtain an API key from the following link: https://nla.zapier.com/credentials/\n",
        "\n",
        "Next, you need to activate the following actions:\n",
        "\n",
        "Find email\n",
        "\n",
        "*   Élément de liste\n",
        "*   Élément de liste\n",
        "\n",
        "\n",
        "Create draft reply\n"
      ],
      "metadata": {
        "id": "Sd11oMQYlH3T"
      }
    },
    {
      "cell_type": "code",
      "execution_count": null,
      "metadata": {
        "id": "KVN6R12dfnwk"
      },
      "outputs": [],
      "source": [
        "!pip install openai\n",
        "!pip install --upgrade langchain"
      ]
    },
    {
      "cell_type": "code",
      "source": [
        "import os\n",
        "os.environ[\"OPENAI_API_KEY\"] = \"sk-OPENAI-API-KEY\"\n",
        "os.environ[\"ZAPIER_NLA_API_KEY\"] = \"sk-ZAPIER-API-KEY\""
      ],
      "metadata": {
        "id": "K1rNlMrqf56q"
      },
      "execution_count": null,
      "outputs": []
    },
    {
      "cell_type": "code",
      "source": [
        "from langchain.llms import OpenAI\n",
        "from langchain.agents import initialize_agent\n",
        "from langchain.agents.agent_toolkits import ZapierToolkit\n",
        "from langchain.agents import AgentType\n",
        "from langchain.utilities.zapier import ZapierNLAWrapper\n",
        "\n",
        "llm = OpenAI(temperature=0)\n",
        "zapier = ZapierNLAWrapper()\n",
        "toolkit = ZapierToolkit.from_zapier_nla_wrapper(zapier)\n",
        "agent = initialize_agent(toolkit.get_tools(), llm, agent=AgentType.ZERO_SHOT_REACT_DESCRIPTION, verbose=True)\n",
        "agent.run(\"Get the last email I received. Create a draft email in gmail back to nicolas with a good positive reply\")"
      ],
      "metadata": {
        "id": "_IUSPQaOk58k"
      },
      "execution_count": null,
      "outputs": []
    }
  ]
}