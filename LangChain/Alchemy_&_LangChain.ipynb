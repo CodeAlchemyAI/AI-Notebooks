{
  "nbformat": 4,
  "nbformat_minor": 0,
  "metadata": {
    "colab": {
      "provenance": [],
      "authorship_tag": "ABX9TyPn/MSx4cepMO7RaX+SlOGq",
      "include_colab_link": true
    },
    "kernelspec": {
      "name": "python3",
      "display_name": "Python 3"
    },
    "language_info": {
      "name": "python"
    }
  },
  "cells": [
    {
      "cell_type": "markdown",
      "metadata": {
        "id": "view-in-github",
        "colab_type": "text"
      },
      "source": [
        "<a href=\"https://colab.research.google.com/github/CodeAlchemyAI/AI-Notebooks/blob/main/LangChain/Alchemy_%26_LangChain.ipynb\" target=\"_parent\"><img src=\"https://colab.research.google.com/assets/colab-badge.svg\" alt=\"Open In Colab\"/></a>"
      ]
    },
    {
      "cell_type": "markdown",
      "source": [
        "\n",
        "This example demonstrates how to utilize LangChain to interact with APIs to retrieve relevant information. We will use **Alchemy** to answer questions related to a wallet address.\n",
        "\n",
        "Ensure that you create an account at Alchemy.com and obtain an API key.\n",
        "\n",
        "\n"
      ],
      "metadata": {
        "id": "A1vWM44wrfOA"
      }
    },
    {
      "cell_type": "code",
      "execution_count": null,
      "metadata": {
        "id": "qko6evakYEJs"
      },
      "outputs": [],
      "source": [
        "!pip install langchain\n",
        "!pip install openai"
      ]
    },
    {
      "cell_type": "code",
      "source": [
        "from langchain.chains.api.prompt import API_RESPONSE_PROMPT\n",
        "from langchain.chains import APIChain\n",
        "from langchain.prompts.prompt import PromptTemplate\n",
        "import os\n",
        "from langchain.memory import ConversationBufferMemory\n",
        "\n",
        "from langchain.llms import OpenAI\n",
        "os.environ[\"OPENAI_API_KEY\"] = \"sk-OPEN-API-KEY\"\n",
        "llm = OpenAI(temperature=0)"
      ],
      "metadata": {
        "id": "RoWNXmbOYSV8"
      },
      "execution_count": null,
      "outputs": []
    },
    {
      "cell_type": "code",
      "source": [
        "alchemy_documentation = \"\"\"\n",
        "BASE URL: https://eth-mainnet.g.alchemy.com/nft/v3/XSx2faRLXDOfmytoYJMTONdKpi-vvWro\n",
        "API Documentation\n",
        "\n",
        "The API endpoint /getNFTsForOwner allow to gets all NFTs currently owned by a given address.\n",
        "\n",
        "QUERY PARAMS\n",
        "\n",
        "owner string required\n",
        "String - Address for NFT owner (can be in ENS format!).\n",
        "\n",
        "contractAddresses[] array of strings\n",
        "Array of contract addresses to filter the responses with. Max limit 45 contracts.\n",
        "\n",
        "pageSize integer\n",
        "Number of NFTs to be returned per page. Defaults to 100. Max is 100.\n",
        "\n",
        "\n",
        "The API endpoint /getFloorPrice Returns the floor prices of a NFT collection by marketplace.\n",
        "\n",
        "contractAddress string\n",
        "String - Contract address for the NFT contract (ERC721 and ERC1155 supported).\n",
        "\n",
        "The API endpoint /getContractMetadata Queries NFT high-level collection/contract level information.\n",
        "\n",
        "contractAddress string\n",
        "String - Contract address for the NFT contract (ERC721 and ERC1155 supported).\n",
        "\"\"\""
      ],
      "metadata": {
        "id": "Zh-GLpPRasqa"
      },
      "execution_count": null,
      "outputs": []
    },
    {
      "cell_type": "code",
      "source": [
        "chain_new = APIChain.from_llm_and_api_docs(llm, alchemy_documentation, verbose=False)\n",
        "from langchain import PromptTemplate\n",
        "\n",
        "template = \"\"\"{query}. limit result to 1 page\"\"\"\n",
        "\n",
        "prompt_template = PromptTemplate(\n",
        "    input_variables=[\"query\"],\n",
        "    template=template,\n",
        ")"
      ],
      "metadata": {
        "id": "RXbklL3QYhT-"
      },
      "execution_count": null,
      "outputs": []
    },
    {
      "cell_type": "code",
      "source": [
        "your_question = \"How many NFTs do I hold? My address is 0x34326b7Fa5Da28BbE4AC20BAd48156C644A69F93?\"\n",
        "prompt = prompt_template.format(query=your_question)\n",
        "chain_new.run(prompt)"
      ],
      "metadata": {
        "colab": {
          "base_uri": "https://localhost:8080/",
          "height": 35
        },
        "id": "3F3r2kBga5VH",
        "outputId": "8d4e1abc-283b-4a41-9dce-d2d08f7a6240"
      },
      "execution_count": null,
      "outputs": [
        {
          "output_type": "execute_result",
          "data": {
            "text/plain": [
              "' The response from the API indicates that the address 0x34326b7Fa5Da28BbE4AC20BAd48156C644A69F93 holds 5 NFTs.'"
            ],
            "application/vnd.google.colaboratory.intrinsic+json": {
              "type": "string"
            }
          },
          "metadata": {},
          "execution_count": 88
        }
      ]
    },
    {
      "cell_type": "code",
      "source": [
        "your_question = \" find the floor price for the contract at address: 0xbc4ca0eda7647a8ab7c2061c2e118a18a936f13d\"\n",
        "prompt = prompt_template.format(query=your_question)\n",
        "chain_new.run(prompt)"
      ],
      "metadata": {
        "colab": {
          "base_uri": "https://localhost:8080/",
          "height": 35
        },
        "id": "zlCIFWnIlvcy",
        "outputId": "8ffe6d57-e6e4-456c-a64d-abbbf199663c"
      },
      "execution_count": null,
      "outputs": [
        {
          "output_type": "execute_result",
          "data": {
            "text/plain": [
              "' The floor price of the contract 0xbc4ca0eda7647a8ab7c2061c2e118a18a936f13d is 62.1 ETH on OpenSea and 55.0 ETH on LooksRare.'"
            ],
            "application/vnd.google.colaboratory.intrinsic+json": {
              "type": "string"
            }
          },
          "metadata": {},
          "execution_count": 75
        }
      ]
    },
    {
      "cell_type": "code",
      "source": [
        "your_question = \"Give me all details about the contract at address 0xbc4ca0eda7647a8ab7c2061c2e118a18a936f13d\"\n",
        "prompt = prompt_template.format(query=your_question)\n",
        "chain_new.run(prompt)"
      ],
      "metadata": {
        "colab": {
          "base_uri": "https://localhost:8080/",
          "height": 71
        },
        "id": "tAQk3w0TnEQm",
        "outputId": "faabbfc0-5506-435d-b66d-b37210c15fd3"
      },
      "execution_count": null,
      "outputs": [
        {
          "output_type": "execute_result",
          "data": {
            "text/plain": [
              "' The response from the API call for the contract at address 0xbc4ca0eda7647a8ab7c2061c2e118a18a936f13d is that it is an ERC721 contract called BoredApeYachtClub with a total supply of 10000, deployed by 0xaBA7161A7fb69c88e16ED9f455CE62B791EE4D03 at block 12287507. It has a floor price of 68.16, a collection name of Bored Ape Yacht Club, an image URL, a description, an external URL, a Twitter username, and a Discord URL.'"
            ],
            "application/vnd.google.colaboratory.intrinsic+json": {
              "type": "string"
            }
          },
          "metadata": {},
          "execution_count": 86
        }
      ]
    },
    {
      "cell_type": "code",
      "source": [],
      "metadata": {
        "id": "eP4dWteByJcH"
      },
      "execution_count": null,
      "outputs": []
    },
    {
      "cell_type": "code",
      "source": [],
      "metadata": {
        "id": "NePMfGeoyJZg"
      },
      "execution_count": null,
      "outputs": []
    },
    {
      "cell_type": "code",
      "source": [],
      "metadata": {
        "id": "hryo1zVCyJW7"
      },
      "execution_count": null,
      "outputs": []
    }
  ]
}